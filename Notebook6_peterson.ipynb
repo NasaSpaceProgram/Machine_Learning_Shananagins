{
  "nbformat": 4,
  "nbformat_minor": 0,
  "metadata": {
    "colab": {
      "name": "Notebook6_starter.ipynb",
      "provenance": [],
      "include_colab_link": true
    },
    "kernelspec": {
      "name": "python3",
      "display_name": "Python 3"
    },
    "language_info": {
      "name": "python"
    },
    "accelerator": "GPU"
  },
  "cells": [
    {
      "cell_type": "markdown",
      "metadata": {
        "id": "view-in-github",
        "colab_type": "text"
      },
      "source": [
        "<a href=\"https://colab.research.google.com/github/NasaSpaceProgram/Machine_Learning_Shananagins/blob/main/Notebook6_peterson.ipynb\" target=\"_parent\"><img src=\"https://colab.research.google.com/assets/colab-badge.svg\" alt=\"Open In Colab\"/></a>"
      ]
    },
    {
      "cell_type": "markdown",
      "metadata": {
        "id": "XHNyMbAY0QB5"
      },
      "source": [
        "# Notebook \\# 6\n",
        "Name:\n",
        "Date:\n",
        "\n",
        "## Problem Description:\n",
        "\n",
        "\n",
        "\n",
        "### Hints/ Tips Tricks\n",
        "- Don't forget to enable GPUs under 'Edit', 'Notebook Settings', 'Accerlate Hardware', 'GPU'.\n",
        "- Make sure you unzip the data and put it in your Drive.\n"
      ]
    },
    {
      "cell_type": "markdown",
      "metadata": {
        "id": "yXda-V3r8Vjp"
      },
      "source": [
        "## The Problem \n",
        "\n",
        "In this notebook we are attempting to build a CNN which will correctly identify if a pacent has Pneumonia based on x-ray images. "
      ]
    },
    {
      "cell_type": "code",
      "metadata": {
        "id": "paqXrFXXs1jR",
        "colab": {
          "base_uri": "https://localhost:8080/"
        },
        "outputId": "3ec710d4-8838-490c-a661-bda02fc93762"
      },
      "source": [
        "%tensorflow_version 2.x\n",
        "import tensorflow as tf\n",
        "device_name = tf.test.gpu_device_name()\n",
        "if device_name != '/device:GPU:0':\n",
        "  raise SystemError('GPU device not found')\n",
        "print('Found GPU at: {}'.format(device_name))"
      ],
      "execution_count": null,
      "outputs": [
        {
          "output_type": "stream",
          "name": "stdout",
          "text": [
            "Found GPU at: /device:GPU:0\n"
          ]
        }
      ]
    },
    {
      "cell_type": "code",
      "metadata": {
        "id": "9TyLjTVU0MQr",
        "colab": {
          "base_uri": "https://localhost:8080/"
        },
        "outputId": "cc73b264-db4b-4361-944b-cf795ec1435e"
      },
      "source": [
        "import tensorflow as tf\n",
        "import keras\n",
        "import tensorflow \n",
        "import sys\n",
        "from matplotlib import pyplot\n",
        "#from keras.utils import to_categorical\n",
        "from keras.models import Sequential\n",
        "from keras.layers import Conv2D\n",
        "from keras.layers import MaxPooling2D\n",
        "from keras.layers import Dense\n",
        "from keras.layers import Flatten\n",
        "#from keras.optimizers import SGD\n",
        "from keras.preprocessing.image import ImageDataGenerator\n",
        "import sys\n",
        "\n",
        "## Connect to Drive\n",
        "from google.colab import drive\n",
        "import pandas\n",
        "drive.mount('/content/drive')\n",
        "\n",
        "## Image dimensions\n",
        "img_width = 200\n",
        "img_height = 200\n",
        "\n",
        "## Directories for testing and training data\n",
        "train_data_dir = '/content/drive/MyDrive/CS167/datasets/chest_xray/train' \n",
        "test_data_dir = '/content/drive/MyDrive/CS167/datasets/chest_xray/test'\n",
        "\n",
        "## To feed the training images to the neural network in batches of 32 images at a time\n",
        "batch_size = 32\n",
        "\n",
        "## Rescale pixel values from [0, 255] to between 0 and 1\n",
        "datagen = ImageDataGenerator(rescale=1.0/255.0)\n",
        "\n",
        "## Look for training and testing data and figure out the class of each example based on subfolder\n",
        "train_data = datagen.flow_from_directory(\n",
        "        train_data_dir,\n",
        "        target_size=(img_width, img_height),\n",
        "        batch_size=batch_size,\n",
        "        class_mode='binary')\n",
        "\n",
        "test_data = datagen.flow_from_directory(\n",
        "        test_data_dir,\n",
        "        target_size=(img_width, img_height),\n",
        "        batch_size=batch_size,\n",
        "        class_mode='binary')\n",
        "\n",
        "import warnings\n",
        "warnings.filterwarnings('ignore')"
      ],
      "execution_count": null,
      "outputs": [
        {
          "output_type": "stream",
          "name": "stdout",
          "text": [
            "Drive already mounted at /content/drive; to attempt to forcibly remount, call drive.mount(\"/content/drive\", force_remount=True).\n",
            "Found 4971 images belonging to 2 classes.\n",
            "Found 624 images belonging to 2 classes.\n"
          ]
        }
      ]
    },
    {
      "cell_type": "code",
      "metadata": {
        "id": "t_i-Cfa41ZvU"
      },
      "source": [
        "# Build your CNN here\n",
        "model2 = Sequential()\n",
        "model2.add(Conv2D(32, (3, 3), activation = 'relu', input_shape=(img_width, img_height, 3)))\n",
        "model2.add(MaxPooling2D(pool_size=(2, 2)))\n",
        "model2.add(Conv2D(32, (3, 3),activation = 'relu'))\n",
        "model2.add(MaxPooling2D(pool_size=(2, 2)))\n",
        "model2.add(Flatten())\n",
        "model2.add(Dense(32,activation = 'relu'))\n",
        "model2.add(Dense(1,activation='sigmoid'))\n",
        "\n",
        "opt = tf.keras.optimizers.SGD(lr=0.001, momentum=0.5)\n",
        "model2.compile(optimizer=opt, loss='binary_crossentropy', metrics=['accuracy'])"
      ],
      "execution_count": null,
      "outputs": []
    },
    {
      "cell_type": "code",
      "metadata": {
        "id": "7aSIIRwxx6PN",
        "colab": {
          "base_uri": "https://localhost:8080/"
        },
        "outputId": "6793700c-8634-4889-d85d-34b929fe1ea8"
      },
      "source": [
        "training_results2 = model2.fit_generator(\n",
        "        train_data, #training set\n",
        "        steps_per_epoch = len(train_data), \n",
        "        epochs=50, #number of epochs \n",
        "        validation_data = test_data, #testing set\n",
        "        validation_steps = len(test_data)\n",
        "        )"
      ],
      "execution_count": null,
      "outputs": [
        {
          "output_type": "stream",
          "name": "stdout",
          "text": [
            "Epoch 1/50\n",
            "156/156 [==============================] - 20s 128ms/step - loss: 0.0907 - accuracy: 0.9642 - val_loss: 1.0233 - val_accuracy: 0.7356\n",
            "Epoch 2/50\n",
            "156/156 [==============================] - 20s 129ms/step - loss: 0.0973 - accuracy: 0.9646 - val_loss: 0.7518 - val_accuracy: 0.7644\n",
            "Epoch 3/50\n",
            "156/156 [==============================] - 20s 130ms/step - loss: 0.0886 - accuracy: 0.9670 - val_loss: 0.8834 - val_accuracy: 0.7532\n",
            "Epoch 4/50\n",
            "156/156 [==============================] - 20s 128ms/step - loss: 0.0983 - accuracy: 0.9638 - val_loss: 0.6733 - val_accuracy: 0.7917\n",
            "Epoch 5/50\n",
            "156/156 [==============================] - 20s 126ms/step - loss: 0.0832 - accuracy: 0.9704 - val_loss: 0.8189 - val_accuracy: 0.7740\n",
            "Epoch 6/50\n",
            "156/156 [==============================] - 20s 128ms/step - loss: 0.0861 - accuracy: 0.9680 - val_loss: 1.0211 - val_accuracy: 0.7436\n",
            "Epoch 7/50\n",
            "156/156 [==============================] - 20s 128ms/step - loss: 0.0826 - accuracy: 0.9702 - val_loss: 1.3836 - val_accuracy: 0.7083\n",
            "Epoch 8/50\n",
            "156/156 [==============================] - 20s 128ms/step - loss: 0.0764 - accuracy: 0.9736 - val_loss: 0.8992 - val_accuracy: 0.7596\n",
            "Epoch 9/50\n",
            "156/156 [==============================] - 20s 129ms/step - loss: 0.0788 - accuracy: 0.9706 - val_loss: 1.1477 - val_accuracy: 0.7356\n",
            "Epoch 10/50\n",
            "156/156 [==============================] - 20s 128ms/step - loss: 0.0711 - accuracy: 0.9730 - val_loss: 0.8244 - val_accuracy: 0.7740\n",
            "Epoch 11/50\n",
            "156/156 [==============================] - 20s 128ms/step - loss: 0.0698 - accuracy: 0.9749 - val_loss: 0.9333 - val_accuracy: 0.7612\n",
            "Epoch 12/50\n",
            "156/156 [==============================] - 20s 130ms/step - loss: 0.0723 - accuracy: 0.9722 - val_loss: 0.6874 - val_accuracy: 0.8013\n",
            "Epoch 13/50\n",
            "156/156 [==============================] - 20s 129ms/step - loss: 0.0745 - accuracy: 0.9747 - val_loss: 0.8501 - val_accuracy: 0.7724\n",
            "Epoch 14/50\n",
            "156/156 [==============================] - 20s 128ms/step - loss: 0.0639 - accuracy: 0.9765 - val_loss: 0.9119 - val_accuracy: 0.7692\n",
            "Epoch 15/50\n",
            "156/156 [==============================] - 20s 128ms/step - loss: 0.0607 - accuracy: 0.9771 - val_loss: 0.8205 - val_accuracy: 0.7917\n",
            "Epoch 16/50\n",
            "156/156 [==============================] - 20s 128ms/step - loss: 0.0628 - accuracy: 0.9775 - val_loss: 0.8107 - val_accuracy: 0.7869\n",
            "Epoch 17/50\n",
            "156/156 [==============================] - 20s 128ms/step - loss: 0.0585 - accuracy: 0.9791 - val_loss: 1.0283 - val_accuracy: 0.7596\n",
            "Epoch 18/50\n",
            "156/156 [==============================] - 20s 130ms/step - loss: 0.0613 - accuracy: 0.9765 - val_loss: 1.1103 - val_accuracy: 0.7356\n",
            "Epoch 19/50\n",
            "156/156 [==============================] - 20s 128ms/step - loss: 0.0569 - accuracy: 0.9771 - val_loss: 0.9775 - val_accuracy: 0.7628\n",
            "Epoch 20/50\n",
            "156/156 [==============================] - 20s 128ms/step - loss: 0.0562 - accuracy: 0.9787 - val_loss: 1.1205 - val_accuracy: 0.7372\n",
            "Epoch 21/50\n",
            "156/156 [==============================] - 20s 128ms/step - loss: 0.0532 - accuracy: 0.9807 - val_loss: 1.3743 - val_accuracy: 0.7212\n",
            "Epoch 22/50\n",
            "156/156 [==============================] - 20s 129ms/step - loss: 0.0486 - accuracy: 0.9831 - val_loss: 1.3659 - val_accuracy: 0.7276\n",
            "Epoch 23/50\n",
            "156/156 [==============================] - 20s 128ms/step - loss: 0.0456 - accuracy: 0.9817 - val_loss: 1.2918 - val_accuracy: 0.7420\n",
            "Epoch 24/50\n",
            "156/156 [==============================] - 20s 129ms/step - loss: 0.0474 - accuracy: 0.9815 - val_loss: 0.9173 - val_accuracy: 0.7788\n",
            "Epoch 25/50\n",
            "156/156 [==============================] - 20s 128ms/step - loss: 0.0428 - accuracy: 0.9853 - val_loss: 1.0283 - val_accuracy: 0.7724\n",
            "Epoch 26/50\n",
            "156/156 [==============================] - 20s 127ms/step - loss: 0.0374 - accuracy: 0.9851 - val_loss: 1.0275 - val_accuracy: 0.7756\n",
            "Epoch 27/50\n",
            "156/156 [==============================] - 20s 129ms/step - loss: 0.0372 - accuracy: 0.9871 - val_loss: 1.3185 - val_accuracy: 0.7436\n",
            "Epoch 28/50\n",
            "156/156 [==============================] - 20s 127ms/step - loss: 0.0373 - accuracy: 0.9875 - val_loss: 1.3198 - val_accuracy: 0.7388\n",
            "Epoch 29/50\n",
            "156/156 [==============================] - 20s 128ms/step - loss: 0.0374 - accuracy: 0.9857 - val_loss: 0.9428 - val_accuracy: 0.7837\n",
            "Epoch 30/50\n",
            "156/156 [==============================] - 20s 127ms/step - loss: 0.0325 - accuracy: 0.9891 - val_loss: 0.9766 - val_accuracy: 0.7804\n",
            "Epoch 31/50\n",
            "156/156 [==============================] - 20s 127ms/step - loss: 0.0319 - accuracy: 0.9879 - val_loss: 1.0312 - val_accuracy: 0.7644\n",
            "Epoch 32/50\n",
            "156/156 [==============================] - 20s 128ms/step - loss: 0.0285 - accuracy: 0.9916 - val_loss: 1.3776 - val_accuracy: 0.7436\n",
            "Epoch 33/50\n",
            "156/156 [==============================] - 20s 127ms/step - loss: 0.0284 - accuracy: 0.9895 - val_loss: 1.0657 - val_accuracy: 0.7837\n",
            "Epoch 34/50\n",
            "156/156 [==============================] - 20s 129ms/step - loss: 0.0262 - accuracy: 0.9895 - val_loss: 1.4229 - val_accuracy: 0.7388\n",
            "Epoch 35/50\n",
            "156/156 [==============================] - 20s 127ms/step - loss: 0.0239 - accuracy: 0.9922 - val_loss: 1.4513 - val_accuracy: 0.7468\n",
            "Epoch 36/50\n",
            "156/156 [==============================] - 20s 127ms/step - loss: 0.0267 - accuracy: 0.9907 - val_loss: 1.5696 - val_accuracy: 0.7356\n",
            "Epoch 37/50\n",
            "156/156 [==============================] - 20s 127ms/step - loss: 0.0227 - accuracy: 0.9930 - val_loss: 1.5850 - val_accuracy: 0.7516\n",
            "Epoch 38/50\n",
            "156/156 [==============================] - 20s 128ms/step - loss: 0.0207 - accuracy: 0.9932 - val_loss: 1.4399 - val_accuracy: 0.7532\n",
            "Epoch 39/50\n",
            "156/156 [==============================] - 20s 128ms/step - loss: 0.0175 - accuracy: 0.9952 - val_loss: 1.6405 - val_accuracy: 0.7404\n",
            "Epoch 40/50\n",
            "156/156 [==============================] - 20s 128ms/step - loss: 0.0170 - accuracy: 0.9944 - val_loss: 1.9382 - val_accuracy: 0.7147\n",
            "Epoch 41/50\n",
            "156/156 [==============================] - 20s 127ms/step - loss: 0.0149 - accuracy: 0.9970 - val_loss: 2.2822 - val_accuracy: 0.6955\n",
            "Epoch 42/50\n",
            "156/156 [==============================] - 20s 130ms/step - loss: 0.0155 - accuracy: 0.9966 - val_loss: 1.8583 - val_accuracy: 0.7340\n",
            "Epoch 43/50\n",
            "156/156 [==============================] - 20s 128ms/step - loss: 0.0175 - accuracy: 0.9944 - val_loss: 1.4381 - val_accuracy: 0.7660\n",
            "Epoch 44/50\n",
            "156/156 [==============================] - 20s 128ms/step - loss: 0.0164 - accuracy: 0.9956 - val_loss: 1.3418 - val_accuracy: 0.7740\n",
            "Epoch 45/50\n",
            "156/156 [==============================] - 20s 128ms/step - loss: 0.0136 - accuracy: 0.9968 - val_loss: 1.5324 - val_accuracy: 0.7596\n",
            "Epoch 46/50\n",
            "156/156 [==============================] - 20s 128ms/step - loss: 0.0140 - accuracy: 0.9964 - val_loss: 1.6316 - val_accuracy: 0.7532\n",
            "Epoch 47/50\n",
            "156/156 [==============================] - 20s 128ms/step - loss: 0.0090 - accuracy: 0.9986 - val_loss: 1.8881 - val_accuracy: 0.7484\n",
            "Epoch 48/50\n",
            "156/156 [==============================] - 20s 128ms/step - loss: 0.0094 - accuracy: 0.9988 - val_loss: 1.4786 - val_accuracy: 0.7724\n",
            "Epoch 49/50\n",
            "156/156 [==============================] - 20s 129ms/step - loss: 0.0075 - accuracy: 0.9990 - val_loss: 1.8850 - val_accuracy: 0.7532\n",
            "Epoch 50/50\n",
            "156/156 [==============================] - 20s 127ms/step - loss: 0.0092 - accuracy: 0.9982 - val_loss: 1.6596 - val_accuracy: 0.7596\n"
          ]
        }
      ]
    },
    {
      "cell_type": "code",
      "metadata": {
        "id": "MifixE3mzG6v",
        "colab": {
          "base_uri": "https://localhost:8080/",
          "height": 295
        },
        "outputId": "aa16960e-0890-4d3c-d6e3-8d713dfb8305"
      },
      "source": [
        "import matplotlib.pyplot as plt\n",
        "%matplotlib inline\n",
        "plt.plot(training_results2.history['accuracy'])\n",
        "plt.plot(training_results2.history['val_accuracy'])\n",
        "plt.title('model accuracy')\n",
        "plt.ylabel('accuracy')\n",
        "plt.xlabel('epoch')\n",
        "plt.legend(['train', 'test'], loc='upper left')\n",
        "plt.show()"
      ],
      "execution_count": null,
      "outputs": [
        {
          "output_type": "display_data",
          "data": {
            "image/png": "[encoded data removed]",
            "text/plain": [
              "<Figure size 432x288 with 1 Axes>"
            ]
          },
          "metadata": {
            "needs_background": "light"
          }
        }
      ]
    },
    {
      "cell_type": "markdown",
      "metadata": {
        "id": "j04fW-7r5NW-"
      },
      "source": [
        "## Tuned CNNs \n",
        "For My tuned CNNs I first tryed experimenting with the activation parameter as well ass adding another set of convolutional and pooling layers. I toned down the number of nodes in the first and third 2D convolutional  layer so it had the same number of nodes total. This model seamed to be overfitting like the origonal model, so I tryed to fix this by turning down the momomentum. This produced more consistant results but had a smaller maximum accuracy. So finally I took my last model and switched it back to a relu activation. This final model had the best maximum accuracy but was less stable than the gelu."
      ]
    },
    {
      "cell_type": "code",
      "metadata": {
        "id": "MNXFi6Jx3Z6c"
      },
      "source": [
        "# Build your CNN here\n",
        "model = Sequential()\n",
        "model.add(Conv2D(16, (3, 3), activation = 'gelu', input_shape=(img_width, img_height, 3)))\n",
        "model.add(MaxPooling2D(pool_size=(2, 2)))\n",
        "model.add(Conv2D(32, (3, 3),activation = 'gelu'))\n",
        "model.add(MaxPooling2D(pool_size=(2, 2)))\n",
        "model.add(Conv2D(16, (3, 3),activation = 'gelu'))\n",
        "model.add(MaxPooling2D(pool_size=(2, 2)))\n",
        "model.add(Flatten())\n",
        "model.add(Dense(64,activation = 'gelu'))\n",
        "model.add(Dense(1,activation='sigmoid'))\n",
        "\n",
        "opt = tf.keras.optimizers.SGD(lr=0.001, momentum=0.9)\n",
        "model.compile(optimizer=opt, loss='binary_crossentropy', metrics=['accuracy'])"
      ],
      "execution_count": null,
      "outputs": []
    },
    {
      "cell_type": "code",
      "metadata": {
        "id": "uTWyhoLT3a8k",
        "colab": {
          "base_uri": "https://localhost:8080/"
        },
        "outputId": "6f176786-3270-4510-a73b-b96528a53291"
      },
      "source": [
        "training_results = model.fit_generator(\n",
        "        train_data, #training set\n",
        "        steps_per_epoch = len(train_data), \n",
        "        epochs=20, #number of epochs \n",
        "        validation_data = test_data, #testing set\n",
        "        validation_steps = len(test_data)\n",
        "        )"
      ],
      "execution_count": null,
      "outputs": [
        {
          "output_type": "stream",
          "name": "stdout",
          "text": [
            "Epoch 1/20\n",
            "156/156 [==============================] - 21s 129ms/step - loss: 0.5968 - accuracy: 0.7222 - val_loss: 0.6805 - val_accuracy: 0.6250\n",
            "Epoch 2/20\n",
            "156/156 [==============================] - 20s 130ms/step - loss: 0.5011 - accuracy: 0.7588 - val_loss: 0.7297 - val_accuracy: 0.6410\n",
            "Epoch 3/20\n",
            "156/156 [==============================] - 20s 127ms/step - loss: 0.2349 - accuracy: 0.9083 - val_loss: 0.4311 - val_accuracy: 0.8141\n",
            "Epoch 4/20\n",
            "156/156 [==============================] - 20s 127ms/step - loss: 0.1716 - accuracy: 0.9328 - val_loss: 0.5010 - val_accuracy: 0.7917\n",
            "Epoch 5/20\n",
            "156/156 [==============================] - 20s 128ms/step - loss: 0.1437 - accuracy: 0.9453 - val_loss: 0.8058 - val_accuracy: 0.7388\n",
            "Epoch 6/20\n",
            "156/156 [==============================] - 20s 127ms/step - loss: 0.1492 - accuracy: 0.9431 - val_loss: 0.9307 - val_accuracy: 0.7083\n",
            "Epoch 7/20\n",
            "156/156 [==============================] - 20s 127ms/step - loss: 0.1332 - accuracy: 0.9473 - val_loss: 0.7619 - val_accuracy: 0.7692\n",
            "Epoch 8/20\n",
            "156/156 [==============================] - 20s 125ms/step - loss: 0.1226 - accuracy: 0.9537 - val_loss: 0.9675 - val_accuracy: 0.7372\n",
            "Epoch 9/20\n",
            "156/156 [==============================] - 20s 127ms/step - loss: 0.1169 - accuracy: 0.9584 - val_loss: 0.8295 - val_accuracy: 0.7516\n",
            "Epoch 10/20\n",
            "156/156 [==============================] - 20s 126ms/step - loss: 0.1188 - accuracy: 0.9596 - val_loss: 0.7185 - val_accuracy: 0.7885\n",
            "Epoch 11/20\n",
            "156/156 [==============================] - 20s 127ms/step - loss: 0.1120 - accuracy: 0.9567 - val_loss: 0.5905 - val_accuracy: 0.8029\n",
            "Epoch 12/20\n",
            "156/156 [==============================] - 20s 127ms/step - loss: 0.1044 - accuracy: 0.9612 - val_loss: 0.5480 - val_accuracy: 0.7981\n",
            "Epoch 13/20\n",
            "156/156 [==============================] - 20s 125ms/step - loss: 0.0996 - accuracy: 0.9646 - val_loss: 0.5441 - val_accuracy: 0.8189\n",
            "Epoch 14/20\n",
            "156/156 [==============================] - 20s 126ms/step - loss: 0.0963 - accuracy: 0.9636 - val_loss: 0.8904 - val_accuracy: 0.7628\n",
            "Epoch 15/20\n",
            "156/156 [==============================] - 20s 128ms/step - loss: 0.0884 - accuracy: 0.9670 - val_loss: 0.7801 - val_accuracy: 0.7772\n",
            "Epoch 16/20\n",
            "156/156 [==============================] - 20s 128ms/step - loss: 0.0933 - accuracy: 0.9654 - val_loss: 1.0738 - val_accuracy: 0.7484\n",
            "Epoch 17/20\n",
            "156/156 [==============================] - 20s 128ms/step - loss: 0.0909 - accuracy: 0.9678 - val_loss: 0.6443 - val_accuracy: 0.8077\n",
            "Epoch 18/20\n",
            "156/156 [==============================] - 20s 127ms/step - loss: 0.0926 - accuracy: 0.9672 - val_loss: 1.0034 - val_accuracy: 0.7388\n",
            "Epoch 19/20\n",
            "156/156 [==============================] - 20s 128ms/step - loss: 0.0820 - accuracy: 0.9708 - val_loss: 1.0441 - val_accuracy: 0.7356\n",
            "Epoch 20/20\n",
            "156/156 [==============================] - 20s 128ms/step - loss: 0.0810 - accuracy: 0.9694 - val_loss: 1.2690 - val_accuracy: 0.7115\n"
          ]
        }
      ]
    },
    {
      "cell_type": "code",
      "metadata": {
        "id": "jrS5x1EJ3amV",
        "colab": {
          "base_uri": "https://localhost:8080/",
          "height": 295
        },
        "outputId": "d569cc18-f9f3-490d-fe85-649457b147e8"
      },
      "source": [
        "import matplotlib.pyplot as plt\n",
        "%matplotlib inline\n",
        "plt.plot(training_results.history['accuracy'])\n",
        "plt.plot(training_results.history['val_accuracy'])\n",
        "plt.title('model accuracy')\n",
        "plt.ylabel('accuracy')\n",
        "plt.xlabel('epoch')\n",
        "plt.legend(['train', 'test'], loc='upper left')\n",
        "plt.show()"
      ],
      "execution_count": null,
      "outputs": [
        {
          "output_type": "display_data",
          "data": {
            "image/png": "[encoded data removed]",
            "text/plain": [
              "<Figure size 432x288 with 1 Axes>"
            ]
          },
          "metadata": {
            "needs_background": "light"
          }
        }
      ]
    },
    {
      "cell_type": "code",
      "metadata": {
        "id": "vsx-FIOnEvSO"
      },
      "source": [
        "# Build your CNN here\n",
        "model = Sequential()\n",
        "model.add(Conv2D(16, (3, 3), activation = 'gelu', input_shape=(img_width, img_height, 3)))\n",
        "model.add(MaxPooling2D(pool_size=(2, 2)))\n",
        "model.add(Conv2D(32, (3, 3),activation = 'gelu'))\n",
        "model.add(MaxPooling2D(pool_size=(2, 2)))\n",
        "model.add(Conv2D(16, (3, 3),activation = 'gelu'))\n",
        "model.add(MaxPooling2D(pool_size=(2, 2)))\n",
        "model.add(Flatten())\n",
        "model.add(Dense(64,activation = 'gelu'))\n",
        "model.add(Dense(1,activation='sigmoid'))\n",
        "\n",
        "opt = tf.keras.optimizers.SGD(lr=0.001, momentum=0.5)\n",
        "model.compile(optimizer=opt, loss='binary_crossentropy', metrics=['accuracy'])"
      ],
      "execution_count": null,
      "outputs": []
    },
    {
      "cell_type": "code",
      "metadata": {
        "id": "MF_aRDeHExkC",
        "colab": {
          "base_uri": "https://localhost:8080/"
        },
        "outputId": "4b2172c6-a404-4365-8d0c-5ff826a90bf5"
      },
      "source": [
        "training_results = model.fit_generator(\n",
        "        train_data, #training set\n",
        "        steps_per_epoch = len(train_data), \n",
        "        epochs=20, #number of epochs \n",
        "        validation_data = test_data, #testing set\n",
        "        validation_steps = len(test_data)\n",
        "        )"
      ],
      "execution_count": null,
      "outputs": [
        {
          "output_type": "stream",
          "name": "stdout",
          "text": [
            "Epoch 1/20\n",
            "156/156 [==============================] - 3632s 23s/step - loss: 0.6681 - accuracy: 0.6960 - val_loss: 0.6692 - val_accuracy: 0.6250\n",
            "Epoch 2/20\n",
            "156/156 [==============================] - 18s 115ms/step - loss: 0.6091 - accuracy: 0.7302 - val_loss: 0.6752 - val_accuracy: 0.6250\n",
            "Epoch 3/20\n",
            "156/156 [==============================] - 18s 116ms/step - loss: 0.5854 - accuracy: 0.7302 - val_loss: 0.6865 - val_accuracy: 0.6250\n",
            "Epoch 4/20\n",
            "156/156 [==============================] - 18s 117ms/step - loss: 0.5818 - accuracy: 0.7302 - val_loss: 0.6909 - val_accuracy: 0.6250\n",
            "Epoch 5/20\n",
            "156/156 [==============================] - 18s 117ms/step - loss: 0.5783 - accuracy: 0.7302 - val_loss: 0.6813 - val_accuracy: 0.6250\n",
            "Epoch 6/20\n",
            "156/156 [==============================] - 18s 118ms/step - loss: 0.5734 - accuracy: 0.7302 - val_loss: 0.6750 - val_accuracy: 0.6250\n",
            "Epoch 7/20\n",
            "156/156 [==============================] - 18s 115ms/step - loss: 0.5652 - accuracy: 0.7302 - val_loss: 0.6710 - val_accuracy: 0.6250\n",
            "Epoch 8/20\n",
            "156/156 [==============================] - 18s 115ms/step - loss: 0.5399 - accuracy: 0.7302 - val_loss: 0.6282 - val_accuracy: 0.6250\n",
            "Epoch 9/20\n",
            "156/156 [==============================] - 18s 114ms/step - loss: 0.3869 - accuracy: 0.8232 - val_loss: 0.4418 - val_accuracy: 0.7869\n",
            "Epoch 10/20\n",
            "156/156 [==============================] - 18s 113ms/step - loss: 0.2287 - accuracy: 0.9147 - val_loss: 0.5469 - val_accuracy: 0.7532\n",
            "Epoch 11/20\n",
            "156/156 [==============================] - 18s 114ms/step - loss: 0.1885 - accuracy: 0.9272 - val_loss: 0.6840 - val_accuracy: 0.7388\n",
            "Epoch 12/20\n",
            "156/156 [==============================] - 18s 114ms/step - loss: 0.1727 - accuracy: 0.9318 - val_loss: 0.6166 - val_accuracy: 0.7516\n",
            "Epoch 13/20\n",
            "156/156 [==============================] - 18s 116ms/step - loss: 0.1572 - accuracy: 0.9352 - val_loss: 0.7440 - val_accuracy: 0.7372\n",
            "Epoch 14/20\n",
            "156/156 [==============================] - 18s 114ms/step - loss: 0.1547 - accuracy: 0.9396 - val_loss: 0.6536 - val_accuracy: 0.7564\n",
            "Epoch 15/20\n",
            "156/156 [==============================] - 18s 113ms/step - loss: 0.1437 - accuracy: 0.9449 - val_loss: 0.5928 - val_accuracy: 0.7788\n",
            "Epoch 16/20\n",
            "156/156 [==============================] - 18s 113ms/step - loss: 0.1436 - accuracy: 0.9489 - val_loss: 0.6294 - val_accuracy: 0.7740\n",
            "Epoch 17/20\n",
            "156/156 [==============================] - 18s 116ms/step - loss: 0.1377 - accuracy: 0.9473 - val_loss: 0.5739 - val_accuracy: 0.7933\n",
            "Epoch 18/20\n",
            "156/156 [==============================] - 18s 115ms/step - loss: 0.1322 - accuracy: 0.9525 - val_loss: 0.9762 - val_accuracy: 0.7115\n",
            "Epoch 19/20\n",
            "156/156 [==============================] - 18s 113ms/step - loss: 0.1302 - accuracy: 0.9489 - val_loss: 0.6512 - val_accuracy: 0.7740\n",
            "Epoch 20/20\n",
            "156/156 [==============================] - 18s 113ms/step - loss: 0.1251 - accuracy: 0.9515 - val_loss: 0.9005 - val_accuracy: 0.7244\n"
          ]
        }
      ]
    },
    {
      "cell_type": "code",
      "metadata": {
        "id": "dJr2TdSpExaj",
        "colab": {
          "base_uri": "https://localhost:8080/",
          "height": 295
        },
        "outputId": "e1c354a7-e4cd-42d3-b153-d287c9bc1c41"
      },
      "source": [
        "import matplotlib.pyplot as plt\n",
        "%matplotlib inline\n",
        "plt.plot(training_results.history['accuracy'])\n",
        "plt.plot(training_results.history['val_accuracy'])\n",
        "plt.title('model accuracy')\n",
        "plt.ylabel('accuracy')\n",
        "plt.xlabel('epoch')\n",
        "plt.legend(['train', 'test'], loc='upper left')\n",
        "plt.show()"
      ],
      "execution_count": null,
      "outputs": [
        {
          "output_type": "display_data",
          "data": {
            "image/png": "[encoded data removed]",
            "text/plain": [
              "<Figure size 432x288 with 1 Axes>"
            ]
          },
          "metadata": {
            "needs_background": "light"
          }
        }
      ]
    },
    {
      "cell_type": "code",
      "metadata": {
        "id": "FWWqzaipUJMr"
      },
      "source": [
        "# Build your CNN here\n",
        "model = Sequential()\n",
        "model.add(Conv2D(16, (3, 3), activation = 'relu', input_shape=(img_width, img_height, 3)))\n",
        "model.add(MaxPooling2D(pool_size=(2, 2)))\n",
        "model.add(Conv2D(32, (3, 3),activation = 'relu'))\n",
        "model.add(MaxPooling2D(pool_size=(2, 2)))\n",
        "model.add(Conv2D(16, (3, 3),activation = 'relu'))\n",
        "model.add(MaxPooling2D(pool_size=(2, 2)))\n",
        "model.add(Flatten())\n",
        "model.add(Dense(64,activation = 'gelu'))\n",
        "model.add(Dense(1,activation='sigmoid'))\n",
        "\n",
        "opt = tf.keras.optimizers.SGD(lr=0.001, momentum=0.5)\n",
        "model.compile(optimizer=opt, loss='binary_crossentropy', metrics=['accuracy'])"
      ],
      "execution_count": null,
      "outputs": []
    },
    {
      "cell_type": "code",
      "metadata": {
        "id": "RmbpnHUyUOFj",
        "colab": {
          "base_uri": "https://localhost:8080/"
        },
        "outputId": "00c6c684-1917-47e7-ff83-c61c38b87f1b"
      },
      "source": [
        "training_results = model.fit_generator(\n",
        "        train_data, #training set\n",
        "        steps_per_epoch = len(train_data), \n",
        "        epochs=20, #number of epochs \n",
        "        validation_data = test_data, #testing set\n",
        "        validation_steps = len(test_data)\n",
        "        )"
      ],
      "execution_count": null,
      "outputs": [
        {
          "output_type": "stream",
          "name": "stdout",
          "text": [
            "Epoch 1/20\n",
            "156/156 [==============================] - 19s 114ms/step - loss: 0.5919 - accuracy: 0.7302 - val_loss: 0.7054 - val_accuracy: 0.6250\n",
            "Epoch 2/20\n",
            "156/156 [==============================] - 17s 111ms/step - loss: 0.5655 - accuracy: 0.7302 - val_loss: 0.6497 - val_accuracy: 0.6250\n",
            "Epoch 3/20\n",
            "156/156 [==============================] - 17s 111ms/step - loss: 0.4833 - accuracy: 0.7564 - val_loss: 0.4921 - val_accuracy: 0.7949\n",
            "Epoch 4/20\n",
            "156/156 [==============================] - 18s 112ms/step - loss: 0.3233 - accuracy: 0.8715 - val_loss: 0.4234 - val_accuracy: 0.7965\n",
            "Epoch 5/20\n",
            "156/156 [==============================] - 17s 112ms/step - loss: 0.2345 - accuracy: 0.9111 - val_loss: 0.3542 - val_accuracy: 0.8397\n",
            "Epoch 6/20\n",
            "156/156 [==============================] - 17s 112ms/step - loss: 0.2066 - accuracy: 0.9159 - val_loss: 0.5785 - val_accuracy: 0.7500\n",
            "Epoch 7/20\n",
            "156/156 [==============================] - 17s 111ms/step - loss: 0.1815 - accuracy: 0.9286 - val_loss: 0.3638 - val_accuracy: 0.8365\n",
            "Epoch 8/20\n",
            "156/156 [==============================] - 17s 111ms/step - loss: 0.1757 - accuracy: 0.9316 - val_loss: 0.3720 - val_accuracy: 0.8285\n",
            "Epoch 9/20\n",
            "156/156 [==============================] - 17s 111ms/step - loss: 0.1589 - accuracy: 0.9396 - val_loss: 0.5292 - val_accuracy: 0.7885\n",
            "Epoch 10/20\n",
            "156/156 [==============================] - 18s 113ms/step - loss: 0.1617 - accuracy: 0.9360 - val_loss: 1.0945 - val_accuracy: 0.6875\n",
            "Epoch 11/20\n",
            "156/156 [==============================] - 18s 114ms/step - loss: 0.1600 - accuracy: 0.9358 - val_loss: 0.4538 - val_accuracy: 0.8125\n",
            "Epoch 12/20\n",
            "156/156 [==============================] - 18s 112ms/step - loss: 0.1472 - accuracy: 0.9445 - val_loss: 0.6670 - val_accuracy: 0.7676\n",
            "Epoch 13/20\n",
            "156/156 [==============================] - 18s 115ms/step - loss: 0.1460 - accuracy: 0.9451 - val_loss: 0.9868 - val_accuracy: 0.7035\n",
            "Epoch 14/20\n",
            "156/156 [==============================] - 18s 113ms/step - loss: 0.1369 - accuracy: 0.9447 - val_loss: 1.2402 - val_accuracy: 0.6843\n",
            "Epoch 15/20\n",
            "156/156 [==============================] - 18s 114ms/step - loss: 0.1386 - accuracy: 0.9477 - val_loss: 0.7445 - val_accuracy: 0.7564\n",
            "Epoch 16/20\n",
            "156/156 [==============================] - 17s 111ms/step - loss: 0.1420 - accuracy: 0.9425 - val_loss: 0.4861 - val_accuracy: 0.8093\n",
            "Epoch 17/20\n",
            "156/156 [==============================] - 18s 112ms/step - loss: 0.1301 - accuracy: 0.9499 - val_loss: 0.5236 - val_accuracy: 0.7965\n",
            "Epoch 18/20\n",
            "156/156 [==============================] - 17s 111ms/step - loss: 0.1258 - accuracy: 0.9517 - val_loss: 0.7576 - val_accuracy: 0.7644\n",
            "Epoch 19/20\n",
            "156/156 [==============================] - 18s 112ms/step - loss: 0.1255 - accuracy: 0.9545 - val_loss: 0.5208 - val_accuracy: 0.8061\n",
            "Epoch 20/20\n",
            "156/156 [==============================] - 17s 111ms/step - loss: 0.1285 - accuracy: 0.9507 - val_loss: 0.5103 - val_accuracy: 0.8109\n"
          ]
        }
      ]
    },
    {
      "cell_type": "code",
      "metadata": {
        "id": "YaLNvJhrUN-0",
        "colab": {
          "base_uri": "https://localhost:8080/",
          "height": 295
        },
        "outputId": "ca77ead9-4839-4dd1-a812-cc887e9e3cf6"
      },
      "source": [
        "import matplotlib.pyplot as plt\n",
        "%matplotlib inline\n",
        "plt.plot(training_results.history['accuracy'])\n",
        "plt.plot(training_results.history['val_accuracy'])\n",
        "plt.title('model accuracy')\n",
        "plt.ylabel('accuracy')\n",
        "plt.xlabel('epoch')\n",
        "plt.legend(['train', 'test'], loc='upper left')\n",
        "plt.show()"
      ],
      "execution_count": null,
      "outputs": [
        {
          "output_type": "display_data",
          "data": {
            "image/png": "[encoded data removed]",
            "text/plain": [
              "<Figure size 432x288 with 1 Axes>"
            ]
          },
          "metadata": {
            "needs_background": "light"
          }
        }
      ]
    },
    {
      "cell_type": "markdown",
      "metadata": {
        "id": "GDNLcjsp70fz"
      },
      "source": [
        "## Conclusion\n",
        "\n",
        "What configuration of your CNN proved to be more accurate? Why do you think this is the case?\n",
        "\n",
        "The Maximum accuracies of the models are as fallows: \\\\\n",
        "Model1: 0.8013 \\\\\n",
        "Model2: 0.8189 \\\\\n",
        "Model3: 0.7933  \\\\\n",
        "Model4: 0.8397 \\\\\n",
        "Note: these models or ordered as they appear in the notebook not how some of them are named in the code. Overall the last model had the hightest maximum accuracy probibly because it used the sugessed relu acctivation and has more layers than the other relu models. Overall these models tended to have large instability which was possibly due to the momentum of the models\n",
        "\n",
        "\n",
        "\n",
        "\n"
      ]
    },
    {
      "cell_type": "markdown",
      "metadata": {
        "id": "X8j0BVPJ7ndC"
      },
      "source": [
        "###Resources\n",
        "For this Project I used the keras documentaiton https://www.tensorflow.org/api_docs/python/tf/keras/optimizers/SGD and day 20 notes"
      ]
    }
  ]
}