{
  "nbformat": 4,
  "nbformat_minor": 0,
  "metadata": {
    "colab": {
      "name": "Project_2_NLP.ipynb",
      "provenance": [],
      "toc_visible": true,
      "include_colab_link": true
    },
    "kernelspec": {
      "name": "python3",
      "display_name": "Python 3"
    },
    "language_info": {
      "name": "python"
    }
  },
  "cells": [
    {
      "cell_type": "markdown",
      "metadata": {
        "id": "view-in-github",
        "colab_type": "text"
      },
      "source": [
        "<a href=\"https://colab.research.google.com/github/NasaSpaceProgram/Machine_Learning_Shananagins/blob/main/Project_2_NLP_peterson.ipynb\" target=\"_parent\"><img src=\"https://colab.research.google.com/assets/colab-badge.svg\" alt=\"Open In Colab\"/></a>"
      ]
    },
    {
      "cell_type": "markdown",
      "metadata": {
        "id": "vu0Kz0Nq4ui4"
      },
      "source": [
        "# Project \\#2 Starter Code\n",
        "Your project should address the categories below. \n",
        "\n",
        "## Problem:\n",
        "The problem we are trying to solve is decifering if a review is positive or negative and which machine learning algorithum will best perform this task. The data we are given consists of IMDB reviews and an associated centement (either positive or negative). A machine learning modle that could accuratly predict this could be used by online retalers to give more accurate assecments of projects based on these review and allow coperations and users to shift through the reviews more easily at least in regars to differentiation positive and negative reviews. \n"
      ]
    },
    {
      "cell_type": "markdown",
      "metadata": {
        "id": "NBZAVjcWhgBV"
      },
      "source": [
        "# Input Pipeline (sklearn):"
      ]
    },
    {
      "cell_type": "code",
      "metadata": {
        "colab": {
          "base_uri": "https://localhost:8080/",
          "height": 224
        },
        "id": "12XGv2fIfTSr",
        "outputId": "5bd231e6-ecf0-45a3-da88-8fa764d4a6d9"
      },
      "source": [
        "from google.colab import drive\n",
        "from numpy import mean\n",
        "from sklearn import metrics\n",
        "import matplotlib.pyplot as plt\n",
        "import pandas\n",
        "drive.mount('/content/drive')\n",
        "data = pandas.read_csv('/content/drive/MyDrive/CS167/datasets/IMDB_dataset.csv')\n",
        "data.head()"
      ],
      "execution_count": null,
      "outputs": [
        {
          "output_type": "stream",
          "name": "stdout",
          "text": [
            "Mounted at /content/drive\n"
          ]
        },
        {
          "output_type": "execute_result",
          "data": {
            "text/html": [
              "<div>\n",
              "<style scoped>\n",
              "    .dataframe tbody tr th:only-of-type {\n",
              "        vertical-align: middle;\n",
              "    }\n",
              "\n",
              "    .dataframe tbody tr th {\n",
              "        vertical-align: top;\n",
              "    }\n",
              "\n",
              "    .dataframe thead th {\n",
              "        text-align: right;\n",
              "    }\n",
              "</style>\n",
              "<table border=\"1\" class=\"dataframe\">\n",
              "  <thead>\n",
              "    <tr style=\"text-align: right;\">\n",
              "      <th></th>\n",
              "      <th>review</th>\n",
              "      <th>sentiment</th>\n",
              "    </tr>\n",
              "  </thead>\n",
              "  <tbody>\n",
              "    <tr>\n",
              "      <th>0</th>\n",
              "      <td>One of the other reviewers has mentioned that ...</td>\n",
              "      <td>positive</td>\n",
              "    </tr>\n",
              "    <tr>\n",
              "      <th>1</th>\n",
              "      <td>A wonderful little production. &lt;br /&gt;&lt;br /&gt;The...</td>\n",
              "      <td>positive</td>\n",
              "    </tr>\n",
              "    <tr>\n",
              "      <th>2</th>\n",
              "      <td>I thought this was a wonderful way to spend ti...</td>\n",
              "      <td>positive</td>\n",
              "    </tr>\n",
              "    <tr>\n",
              "      <th>3</th>\n",
              "      <td>Basically there's a family where a little boy ...</td>\n",
              "      <td>negative</td>\n",
              "    </tr>\n",
              "    <tr>\n",
              "      <th>4</th>\n",
              "      <td>Petter Mattei's \"Love in the Time of Money\" is...</td>\n",
              "      <td>positive</td>\n",
              "    </tr>\n",
              "  </tbody>\n",
              "</table>\n",
              "</div>"
            ],
            "text/plain": [
              "                                              review sentiment\n",
              "0  One of the other reviewers has mentioned that ...  positive\n",
              "1  A wonderful little production. <br /><br />The...  positive\n",
              "2  I thought this was a wonderful way to spend ti...  positive\n",
              "3  Basically there's a family where a little boy ...  negative\n",
              "4  Petter Mattei's \"Love in the Time of Money\" is...  positive"
            ]
          },
          "metadata": {},
          "execution_count": 2
        }
      ]
    },
    {
      "cell_type": "markdown",
      "metadata": {
        "id": "ICUC-PvQ5bP2"
      },
      "source": [
        "## Data Exploration:\n",
        "- Number of samples\n",
        "- Number of classes of the target variable\n",
        "- Number of words per sample\n",
        "- Distribution of sample length\n",
        "- Something else: get creative :) "
      ]
    },
    {
      "cell_type": "code",
      "metadata": {
        "id": "9kkCmgdf5ZqB",
        "colab": {
          "base_uri": "https://localhost:8080/"
        },
        "outputId": "75d4beed-e210-4095-c5f9-973c45c29381"
      },
      "source": [
        "## Use cells here to explore the data:\n",
        "s = data[\"review\"].str.split().apply(len)\n",
        "print(\"The number of samples is \" + str(data.shape[0]))\n",
        "print(\"The number of Catagories is \" + str(len(data[\"sentiment\"].unique())))\n",
        "print(\"The these Catagories are \" + str(data[\"sentiment\"].unique()))\n",
        "print(\"The number of Positive Reviews is \" + str(data[data[\"sentiment\"]=='positive'].shape[0]))\n",
        "print(\"The number of negative Reviews is \" + str(data[data[\"sentiment\"]=='negative'].shape[0]))\n",
        "print(\"The median number of words per sample is \" + str(s.median()))\n",
        "print(\"The average number of words per sample is \" + str(s.mean()))\n",
        "print(\"The Smallest number of words per sample is \" + str(s.min()))\n",
        "print(\"The Largest number of words per sample is \" + str(s.max()))"
      ],
      "execution_count": null,
      "outputs": [
        {
          "output_type": "stream",
          "name": "stdout",
          "text": [
            "The number of samples is 50000\n",
            "The number of Catagories is 2\n",
            "The these Catagories are ['positive' 'negative']\n",
            "The number of Positive Reviews is 25000\n",
            "The number of negative Reviews is 25000\n",
            "The median number of words per sample is 173.0\n",
            "The average number of words per sample is 231.15694\n",
            "The Smallest number of words per sample is 4\n",
            "The Largest number of words per sample is 2470\n"
          ]
        }
      ]
    },
    {
      "cell_type": "code",
      "metadata": {
        "id": "T_lxgwP9_WCd",
        "colab": {
          "base_uri": "https://localhost:8080/",
          "height": 283
        },
        "outputId": "da719a21-b588-47dd-a438-59700b7cd957"
      },
      "source": [
        "s.hist(bins = 500)"
      ],
      "execution_count": null,
      "outputs": [
        {
          "output_type": "execute_result",
          "data": {
            "text/plain": [
              "<matplotlib.axes._subplots.AxesSubplot at 0x7ff34f514ad0>"
            ]
          },
          "metadata": {},
          "execution_count": 6
        },
        {
          "output_type": "display_data",
          "data": {
            "image/png": "[encoded data removed]",
            "text/plain": [
              "<Figure size 432x288 with 1 Axes>"
            ]
          },
          "metadata": {
            "needs_background": "light"
          }
        }
      ]
    },
    {
      "cell_type": "code",
      "metadata": {
        "colab": {
          "base_uri": "https://localhost:8080/",
          "height": 283
        },
        "id": "svx4nTDhN5WQ",
        "outputId": "35f0354f-13e3-4c87-b6ad-31a7c001dd99"
      },
      "source": [
        "s.hist(range=(0,300) ,bins = 300)"
      ],
      "execution_count": null,
      "outputs": [
        {
          "output_type": "execute_result",
          "data": {
            "text/plain": [
              "<matplotlib.axes._subplots.AxesSubplot at 0x7ff32421cf50>"
            ]
          },
          "metadata": {},
          "execution_count": 7
        },
        {
          "output_type": "display_data",
          "data": {
            "image/png": "[encoded data removed]",
            "text/plain": [
              "<Figure size 432x288 with 1 Axes>"
            ]
          },
          "metadata": {
            "needs_background": "light"
          }
        }
      ]
    },
    {
      "cell_type": "markdown",
      "metadata": {
        "id": "ZSuguZ6u5lUl"
      },
      "source": [
        "## Data Preparation\n",
        "\n",
        "I'm providing you with code that cleans the reviews by making it all lowercase letters and removing stop words. The three cells below do this for you. I still want you to explain what you did with the data here. \n",
        "\n",
        "\n",
        "First I downloaded a list of stop words from nltk then we go through each review and clean out the data. \\\\\n",
        "This includes taking out all of the non letter charicters, then we make all of the charicters lowecase so that we can comepare them, and Finally we use the list of stopwords that we downloaded to take out all of the stop words.  \n",
        "\n",
        "Once the review side of the data is clean I can take care of the sentement side. This must be converted to numerical data so I will go through and change ever positive to a one and every negative to a 0. \n",
        "\n",
        "Then I can vectorize the data. To do this we will create a grabbage of several hundred of the most common words and turn our revies into lists of how many times each of these words occures int the review. This will cause us to loose the infomation about the sequence of the words but it will make our data much easier to work with. \n",
        "\n",
        "Finally I used a PCA to lower the dimentionality of the data to make the modles take a bit less time to train. I know this will probibly decrease the accuracy but for the sake of time and not spending and hour training a single modle I reduced it to 10 dimentions. I then used this for all of the modles to keep it consistant "
      ]
    },
    {
      "cell_type": "code",
      "metadata": {
        "id": "YV4FfvLegTSh",
        "colab": {
          "base_uri": "https://localhost:8080/"
        },
        "outputId": "c83c6fb3-a215-463a-f8c1-16b8bd00f036"
      },
      "source": [
        "from bs4 import BeautifulSoup\n",
        "import re\n",
        "#natural langue too kit\n",
        "import nltk\n",
        "#only do next line once\n",
        "\n",
        "\n",
        "# DOWNLOAD STOP WORDS LIST SO WE CAN TAKE THEM OUT\n",
        "nltk.download() #in Corpora tab, download stopwords\n",
        "from nltk.corpus import stopwords\n",
        "from sklearn.model_selection import train_test_split\n",
        "#The NLTK downloader will open, you need to select (d) for Download, and then 'stopwords'then (q) to quit\n",
        "#    stopwords"
      ],
      "execution_count": null,
      "outputs": [
        {
          "name": "stdout",
          "output_type": "stream",
          "text": [
            "NLTK Downloader\n",
            "---------------------------------------------------------------------------\n",
            "    d) Download   l) List    u) Update   c) Config   h) Help   q) Quit\n",
            "---------------------------------------------------------------------------\n",
            "Downloader> d\n",
            "\n",
            "Download which package (l=list; x=cancel)?\n",
            "  Identifier> stopwords\n",
            "    Downloading package stopwords to /root/nltk_data...\n",
            "      Unzipping corpora/stopwords.zip.\n",
            "\n",
            "---------------------------------------------------------------------------\n",
            "    d) Download   l) List    u) Update   c) Config   h) Help   q) Quit\n",
            "---------------------------------------------------------------------------\n",
            "Downloader> q\n"
          ]
        }
      ]
    },
    {
      "cell_type": "code",
      "metadata": {
        "id": "tTEr6vRUgOUs"
      },
      "source": [
        "#This is a function that takes in a review, makes sure it is only lower case letters and removes stopwords.\n",
        "#It returns the cleaned review text.\n",
        "def clean_review(review):\n",
        "    #input is a string review\n",
        "    #return is review cleaned of all punctuation, lowercase, and removed nltk stopwords\n",
        "\n",
        "    # TAKE OUT ANYTHING THAT ISNT A LETTER\n",
        "    letters_only = re.sub(\"[^a-zA-Z]\",\" \",review)\n",
        "    # MAKE EVERYTHING LOWER CASE\n",
        "    lower_case = letters_only.lower()\n",
        "    # SPLIT THE STRINGS INTO AN ARRAY OF WORDS\n",
        "    words = lower_case.split()\n",
        "    for stop_word in stopwords.words(\"english\"):\n",
        "      # TAKE OUT THE STOP WORDS\n",
        "        while stop_word in words:\n",
        "            words.remove(stop_word)\n",
        "    cleaned = \" \".join(words)\n",
        "    return cleaned"
      ],
      "execution_count": null,
      "outputs": []
    },
    {
      "cell_type": "code",
      "metadata": {
        "id": "QEjHsILZgk9V"
      },
      "source": [
        "#process the data\n",
        "cleaned_text = []\n",
        "for i in range(len(data)):\n",
        "    cleaned_text.append(clean_review(data[\"review\"][i]))  "
      ],
      "execution_count": null,
      "outputs": []
    },
    {
      "cell_type": "code",
      "metadata": {
        "id": "LMg3P0ZNBvGM",
        "colab": {
          "base_uri": "https://localhost:8080/"
        },
        "outputId": "bca449d9-168b-441d-dd34-689ace7e2462"
      },
      "source": [
        "cleaned_text[:5]"
      ],
      "execution_count": null,
      "outputs": [
        {
          "output_type": "execute_result",
          "data": {
            "text/plain": [
              "['one reviewers mentioned watching oz episode hooked right exactly happened br br first thing struck oz brutality unflinching scenes violence set right word go trust show faint hearted timid show pulls punches regards drugs sex violence hardcore classic use word br br called oz nickname given oswald maximum security state penitentary focuses mainly emerald city experimental section prison cells glass fronts face inwards privacy high agenda em city home many aryans muslims gangstas latinos christians italians irish scuffles death stares dodgy dealings shady agreements never far away br br would say main appeal show due fact goes shows dare forget pretty pictures painted mainstream audiences forget charm forget romance oz mess around first episode ever saw struck nasty surreal say ready watched developed taste oz got accustomed high levels graphic violence violence injustice crooked guards sold nickel inmates kill order get away well mannered middle class inmates turned prison bitches due lack street skills prison experience watching oz may become comfortable uncomfortable viewing thats get touch darker side',\n",
              " 'wonderful little production br br filming technique unassuming old time bbc fashion gives comforting sometimes discomforting sense realism entire piece br br actors extremely well chosen michael sheen got polari voices pat truly see seamless editing guided references williams diary entries well worth watching terrificly written performed piece masterful production one great master comedy life br br realism really comes home little things fantasy guard rather use traditional dream techniques remains solid disappears plays knowledge senses particularly scenes concerning orton halliwell sets particularly flat halliwell murals decorating every surface terribly well done',\n",
              " 'thought wonderful way spend time hot summer weekend sitting air conditioned theater watching light hearted comedy plot simplistic dialogue witty characters likable even well bread suspected serial killer may disappointed realize match point risk addiction thought proof woody allen still fully control style many us grown love br br laughed one woody comedies years dare say decade never impressed scarlet johanson managed tone sexy image jumped right average spirited young woman br br may crown jewel career wittier devil wears prada interesting superman great comedy go see friends',\n",
              " 'basically family little boy jake thinks zombie closet parents fighting time br br movie slower soap opera suddenly jake decides become rambo kill zombie br br ok first going make film must decide thriller drama drama movie watchable parents divorcing arguing like real life jake closet totally ruins film expected see boogeyman similar movie instead watched drama meaningless thriller spots br br well playing parents descent dialogs shots jake ignore',\n",
              " 'petter mattei love time money visually stunning film watch mr mattei offers us vivid portrait human relations movie seems telling us money power success people different situations encounter br br variation arthur schnitzler play theme director transfers action present time new york different characters meet connect one connected one way another next person one seems know previous point contact stylishly film sophisticated luxurious look taken see people live world live habitat br br thing one gets souls picture different stages loneliness one inhabits big city exactly best place human relations find sincere fulfillment one discerns case people encounter br br acting good mr mattei direction steve buscemi rosario dawson carol kane michael imperioli adrian grenier rest talented cast make characters come alive br br wish mr mattei good luck await anxiously next work']"
            ]
          },
          "metadata": {},
          "execution_count": 6
        }
      ]
    },
    {
      "cell_type": "code",
      "metadata": {
        "id": "C_PqgY2OvgVV"
      },
      "source": [
        "#enumerate the sentements so that they are easier to work with. \n",
        "def enumer(s):\n",
        "  if s == \"positive\":\n",
        "    return 1\n",
        "  else:\n",
        "    return 0 \n",
        "\n",
        "Enumerated_Sentiments = data['sentiment'].apply(enumer)"
      ],
      "execution_count": null,
      "outputs": []
    },
    {
      "cell_type": "code",
      "metadata": {
        "id": "spDgSTvCg9wk"
      },
      "source": [
        "#establish training and testing dataset\n",
        "train_data, test_data, train_sln, test_sln = \\\n",
        "    train_test_split(cleaned_text, Enumerated_Sentiments, test_size = 0.2, random_state=0) "
      ],
      "execution_count": null,
      "outputs": []
    },
    {
      "cell_type": "markdown",
      "metadata": {
        "id": "4eWkGy43wbKm"
      },
      "source": [
        "Change positive and negative to 0 and 1\n",
        "USE pcs\n"
      ]
    },
    {
      "cell_type": "markdown",
      "metadata": {
        "id": "-86AHOAkDpge"
      },
      "source": [
        "### Vectorizing the data\n",
        "\n",
        "**CountVectorizer**: Convert a collection of text documents to a matrix of token counts"
      ]
    },
    {
      "cell_type": "code",
      "metadata": {
        "id": "nwmex98NDgqJ"
      },
      "source": [
        "from sklearn.feature_extraction.text import CountVectorizer \n",
        "\n",
        "#Bag of Words with 5000 most common words\n",
        "vectorizer = CountVectorizer(analyzer='word', max_features = 500)\n",
        "#find the right 5000 words\n",
        "vectorizer.fit(train_data)\n",
        "\n",
        "#use the vectorizer to transform review strings into word count vectors \n",
        "train_data_vectors = vectorizer.transform(train_data).toarray()\n",
        "test_data_vectors = vectorizer.transform(test_data).toarray()\n",
        "\n",
        "\n",
        "#Make a vocabulary: all the unique words \n",
        "#Make each review an array witht he length of the language\n",
        "#Have the counts of each word in the review as the \n",
        "\n",
        "# note the smaller we make the vocabulary the more sentement we loose "
      ],
      "execution_count": null,
      "outputs": []
    },
    {
      "cell_type": "markdown",
      "metadata": {
        "id": "lqOylQisSBlQ"
      },
      "source": [
        "###PCA"
      ]
    },
    {
      "cell_type": "code",
      "metadata": {
        "id": "F57VtSBGSHjw"
      },
      "source": [
        "from sklearn.decomposition import PCA\n",
        "extractor = PCA(n_components=10, whiten=True)\n",
        "#When fitting with PCA, you do not use the target column - this is an unsupervised learning algorithm\n",
        "extractor.fit(train_data_vectors)\n",
        "\n",
        "train_transformed = extractor.transform(train_data_vectors)\n",
        "\n",
        "#Now we transform the predictor columns in the test set as well.\n",
        "#Notice that we're using the extractor that we trained using the training set.\n",
        "#Do not re-fit it to the test data. \n",
        "test_transformed = extractor.transform(test_data_vectors)"
      ],
      "execution_count": null,
      "outputs": []
    },
    {
      "cell_type": "markdown",
      "metadata": {
        "id": "jilcpe3nSPh3"
      },
      "source": [
        "#Models and Tuning\n",
        "##Metrics\n",
        "For metrics I used accuracy because we are working with classification data, I used this both for measureing the effectivness of tuning and the effectivness of the final results. I also used confusion matricies to analise what mistakes the final results where making. \n",
        "\n",
        "\n",
        "##Models\n",
        "In this project I used  Support Vector Classifers, Perceptrons, and multi layered perceptrons. For the SVCs I was going to tune the kernal and the gamma values however collaberate kept closing my session for taking too long so I switched to just gamma because from my inital runs that had the most impact. \n",
        "\n",
        "For the perceptrons I tuned the learning rate because I wanted to make sure I had a small enough learning rate for the modle to converge. I alsotuned the epoch because wanted to make sure the epoch was small enough so I wasnt over fitting my data.\n",
        "\n",
        "Finnaly for MLPs I tuned the epoch because wanted to make sure the epoch was small enough so I wasnt over fitting my data. I also tuned the size of the hidden layers just to see if this could help boost accuracy a bit. \n",
        "\n",
        "I used the PCA reduced data on all of the modles to reduce time and keep it consistant for all of them."
      ]
    },
    {
      "cell_type": "markdown",
      "metadata": {
        "id": "kL633Y7kRyQd"
      },
      "source": [
        "##SVCs"
      ]
    },
    {
      "cell_type": "code",
      "metadata": {
        "id": "Bn9zyOGbR9Mf",
        "colab": {
          "base_uri": "https://localhost:8080/"
        },
        "outputId": "95a41419-c6c3-4dab-aae7-b8d265c78a0c"
      },
      "source": [
        "from sklearn.svm import SVC\n",
        "clf = SVC(kernel= \"poly\", gamma = 0.1)                           \n",
        "clf.fit(train_transformed ,train_sln)\n",
        "predictions = clf.predict(test_transformed)\n",
        "\n",
        "#output accuracy\n",
        "print(\"accuracy:\", metrics.accuracy_score(test_sln, predictions))"
      ],
      "execution_count": null,
      "outputs": [
        {
          "output_type": "stream",
          "name": "stdout",
          "text": [
            "accuracy: 0.6742\n"
          ]
        }
      ]
    },
    {
      "cell_type": "code",
      "metadata": {
        "id": "0J7-SRKQhUNl",
        "colab": {
          "base_uri": "https://localhost:8080/",
          "height": 308
        },
        "outputId": "0fdc8f28-518b-4982-93f3-0792f354ef82"
      },
      "source": [
        "from sklearn.svm import SVC\n",
        "gammas = [0.01,0.1,0.3,0.5,0.7,0.9,1.1,1.3,1.5,1.7,1.9]\n",
        "\n",
        "def SVC_Tune(gammas):\n",
        "  accuracys = []\n",
        "  for g in gammas:\n",
        "      clf = SVC(gamma= g)\n",
        "      clf.fit(train_transformed,train_sln)\n",
        "      curr_predictions = clf.predict(test_transformed)\n",
        "      curr_acc= metrics.accuracy_score(test_sln,curr_predictions)\n",
        "      accuracys.append(curr_acc)\n",
        "  return(accuracys)\n",
        "\n",
        "\n",
        "def SVC_Tune_graph(accuracys,gammas):\n",
        "    plt.suptitle('SVC accuracy vs. gamma',fontsize=18)\n",
        "    plt.xlabel('gamma')\n",
        "    plt.ylabel('accuracy')\n",
        "    plt.plot(gammas,accuracys)\n",
        "    plt.axis([gammas[0]-1,gammas[-1]+1,min(accuracys)-.01,max(accuracys)+.01])\n",
        "    plt.show()\n",
        "accuracys = SVC_Tune(gammas)\n",
        "SVC_Tune_graph(accuracys,gammas)"
      ],
      "execution_count": null,
      "outputs": [
        {
          "output_type": "display_data",
          "data": {
            "image/png": "[encoded data removed]",
            "text/plain": [
              "<Figure size 432x288 with 1 Axes>"
            ]
          },
          "metadata": {
            "needs_background": "light"
          }
        }
      ]
    },
    {
      "cell_type": "markdown",
      "metadata": {
        "id": "L4j-00IITHi3"
      },
      "source": [
        "##Perceptron"
      ]
    },
    {
      "cell_type": "code",
      "metadata": {
        "id": "BR-BpagyTLge",
        "colab": {
          "base_uri": "https://localhost:8080/"
        },
        "outputId": "904d897d-1cc2-4901-96b7-caee1f3ebe0d"
      },
      "source": [
        "from sklearn.linear_model import Perceptron\n",
        "\n",
        "\n",
        "#ignore warings -- there are lots of warnings regarding default values of Perceptron; which we accept\n",
        "import warnings\n",
        "warnings.filterwarnings(\"ignore\")\n",
        "\n",
        "#load up scikit-learn Perceptron\n",
        "perc = Perceptron()\n",
        "perc.fit(train_transformed,train_sln)\n",
        "iris_perc_predictions = perc.predict(test_transformed)\n",
        "\n",
        "#output accuracy\n",
        "print(\"accuracy:\", metrics.accuracy_score(test_sln, iris_perc_predictions))"
      ],
      "execution_count": null,
      "outputs": [
        {
          "output_type": "stream",
          "name": "stdout",
          "text": [
            "accuracy: 0.6373\n"
          ]
        }
      ]
    },
    {
      "cell_type": "code",
      "metadata": {
        "id": "VI3nxMjVlXU8",
        "colab": {
          "base_uri": "https://localhost:8080/",
          "height": 308
        },
        "outputId": "893c4b4b-b299-4b55-ce1c-32029a8f7caa"
      },
      "source": [
        "import warnings\n",
        "warnings.filterwarnings(\"ignore\")\n",
        "from sklearn.linear_model import Perceptron\n",
        "max_iters = range(1,21)\n",
        "eta0s = [0.001,0.01,0.05,0.1]\n",
        "\n",
        "def Perceptron_Tune(eta0s,max_iters):\n",
        "    series = {}\n",
        "    for k in eta0s:\n",
        "      accuracys = []\n",
        "      for g in max_iters:\n",
        "        clf = Perceptron(eta0= k, max_iter= g)\n",
        "        clf.fit(train_transformed,train_sln)\n",
        "        curr_predictions = clf.predict(test_transformed)\n",
        "        curr_acc= metrics.accuracy_score(test_sln,curr_predictions)\n",
        "        accuracys.append(curr_acc)\n",
        "      series[k] = accuracys\n",
        "\n",
        "    plt.suptitle('Perceptron accuracy vs. epoch',fontsize=18)\n",
        "    plt.xlabel('epoch')\n",
        "    plt.ylabel('accuracy')\n",
        "    for k in series.keys():\n",
        "      plt.plot(max_iters, series[k] ,label=(\"eta not = \" +str(k)))\n",
        "    plt.axis([max_iters[0]-1,max_iters[-1]+1,0,1])\n",
        "    plt.legend()\n",
        "    plt.show()\n",
        "\n",
        "Perceptron_Tune(eta0s,max_iters)"
      ],
      "execution_count": null,
      "outputs": [
        {
          "output_type": "display_data",
          "data": {
            "image/png": "[encoded data removed]",
            "text/plain": [
              "<Figure size 432x288 with 1 Axes>"
            ]
          },
          "metadata": {
            "needs_background": "light"
          }
        }
      ]
    },
    {
      "cell_type": "markdown",
      "metadata": {
        "id": "iaef1NBnTM5I"
      },
      "source": [
        "##Multi-layered Perceptron"
      ]
    },
    {
      "cell_type": "code",
      "metadata": {
        "id": "7evlE9Y5TSyX",
        "colab": {
          "base_uri": "https://localhost:8080/"
        },
        "outputId": "759dd764-bd60-4a7e-a7ab-a90f649f3dbd"
      },
      "source": [
        "import warnings\n",
        "warnings.filterwarnings(\"ignore\")\n",
        "\n",
        "from sklearn.neural_network import MLPClassifier\n",
        "\n",
        "mlp = MLPClassifier(random_state=0,hidden_layer_sizes = (100,), max_iter = 800)\n",
        "mlp.fit(train_transformed,train_sln)\n",
        "predictions = mlp.predict(test_transformed)\n",
        "\n",
        "print(\"Accuracy: \", metrics.accuracy_score(test_sln,predictions))\n"
      ],
      "execution_count": null,
      "outputs": [
        {
          "output_type": "stream",
          "name": "stdout",
          "text": [
            "Accuracy:  0.7321\n"
          ]
        }
      ]
    },
    {
      "cell_type": "code",
      "metadata": {
        "id": "DwX94j8tm5pr"
      },
      "source": [
        "import warnings\n",
        "warnings.filterwarnings(\"ignore\")\n",
        "\n",
        "from sklearn.neural_network import MLPClassifier\n",
        "\n",
        "hls = [(50,),(100,),(200,),(300,)]\n",
        "max_iters = range(1,1001,100)\n",
        "def MLP_Tune(hls,max_iters):\n",
        "    series = {}\n",
        "    for k in hls:\n",
        "      accuracys = []\n",
        "      for g in max_iters:\n",
        "        clf = MLPClassifier(hidden_layer_sizes= k, max_iter= g)\n",
        "        clf.fit(train_transformed,train_sln)\n",
        "        curr_predictions = clf.predict(test_transformed)\n",
        "        curr_acc= metrics.accuracy_score(test_sln,curr_predictions)\n",
        "        accuracys.append(curr_acc)\n",
        "      series[k] = accuracys\n",
        "    return(series)\n",
        "\n",
        "series = MLP_Tune(hls,max_iters)"
      ],
      "execution_count": null,
      "outputs": []
    },
    {
      "cell_type": "code",
      "metadata": {
        "colab": {
          "base_uri": "https://localhost:8080/",
          "height": 308
        },
        "id": "ldJLfdxEclrJ",
        "outputId": "2e2ae503-401d-4008-dad4-d718d37667c8"
      },
      "source": [
        "def MLP_Tunes_plot(series,hls,max_iters):\n",
        "    plt.suptitle('MLP accuracy vs. epoch',fontsize=18)\n",
        "    plt.xlabel('epoch')\n",
        "    plt.ylabel('accuracy')\n",
        "    for k in series.keys():\n",
        "      plt.plot(max_iters, series[k],label=(\"Hidden Layer sizes = \" +str(k)))\n",
        "    plt.axis([max_iters[0]-1,max_iters[-1]+1,0.71,0.75])\n",
        "    plt.legend()\n",
        "    plt.show()\n",
        "MLP_Tunes_plot(series,hls,max_iters)"
      ],
      "execution_count": null,
      "outputs": [
        {
          "output_type": "display_data",
          "data": {
            "image/png": "[encoded data removed]",
            "text/plain": [
              "<Figure size 432x288 with 1 Axes>"
            ]
          },
          "metadata": {
            "needs_background": "light"
          }
        }
      ]
    },
    {
      "cell_type": "markdown",
      "metadata": {
        "id": "CnZVsDpXSXCF"
      },
      "source": [
        "# Conclusions"
      ]
    },
    {
      "cell_type": "markdown",
      "metadata": {
        "id": "8dy6lvSsSp6j"
      },
      "source": [
        "##Bumps in the Road\n",
        "\n",
        "The majority of the trouble I had with this project was with collaberate ending my session before my modle could finish running. This resulted in me greatly reducing the dimentionality of the data using a PCA which probibly reduced the accuracy of my modles but atleast I could compleat my modles now. I also had issues with having unrun cells with imports that I needed later because I ended up working on this project so speraticaly so I ended up including most of the nessisary input statments in the cells themselfs"
      ]
    },
    {
      "cell_type": "markdown",
      "metadata": {
        "id": "z4c2HNR3Sx3f"
      },
      "source": [
        "##Results\n",
        "To find the best tooned values I looked at the accuracy graphs above and tried to find the model with the highest accuracys. I reported the results in the table below where the \"Tuned Value(s)\" are the parameters of the best model I tested.\n",
        "\n",
        "Model | Tuned Value(s)\n",
        "-------------------|------------------\n",
        "SVC        |  gamma = 0.01\n",
        "Perceptron |  eta not = 0.05  : epoch = 4\n",
        "MLP        |  HLS = 300  : epoch = 100\n",
        "\n",
        "These results where then plugged in as the perameters of the models below to find the best modle of each type. "
      ]
    },
    {
      "cell_type": "markdown",
      "source": [
        "###SVC"
      ],
      "metadata": {
        "id": "xBsPKksXRjjh"
      }
    },
    {
      "cell_type": "code",
      "source": [
        "import itertools\n",
        "from sklearn.svm import SVC\n",
        "clf = SVC( gamma = 0.01)                           \n",
        "clf.fit(train_transformed ,train_sln)\n",
        "predictions = clf.predict(test_transformed)\n",
        "\n",
        "#output accuracy\n",
        "print(\"accuracy:\", metrics.accuracy_score(test_sln, predictions))\n",
        "#confusion Matrix\n",
        "cm=metrics.confusion_matrix(test_sln,predictions)\n",
        "plt.imshow(cm, interpolation='nearest',cmap=plt.cm.Blues)\n",
        "plt.title('Conf Matrix')\n",
        "plt.colorbar()\n",
        "plt.xticks([0,1], clf.classes_,rotation=45)\n",
        "plt.yticks([0,1], clf.classes_)\n",
        "thresh = cm.max() / 2.\n",
        "for i, j in itertools.product(range(cm.shape[0]), range(cm.shape[1])):\n",
        "        plt.text(j, i, format(cm[i, j], '.2f'),\n",
        "                horizontalalignment=\"center\",\n",
        "                color=\"white\" if cm[i, j] > thresh else \"black\")\n",
        "plt.ylabel('True label')\n",
        "plt.xlabel('Predicted label')"
      ],
      "metadata": {
        "colab": {
          "base_uri": "https://localhost:8080/",
          "height": 315
        },
        "id": "4ZLn21cxRgNk",
        "outputId": "66c8b079-2295-45e6-8b9c-c5329c696b22"
      },
      "execution_count": null,
      "outputs": [
        {
          "output_type": "stream",
          "name": "stdout",
          "text": [
            "accuracy: 0.7329\n"
          ]
        },
        {
          "output_type": "display_data",
          "data": {
            "image/png": "[encoded data removed]",
            "text/plain": [
              "<Figure size 432x288 with 2 Axes>"
            ]
          },
          "metadata": {
            "needs_background": "light"
          }
        }
      ]
    },
    {
      "cell_type": "code",
      "source": [
        "import pandas as pd\n",
        "import numpy as np\n",
        "from itertools import product\n",
        "from sklearn.svm import SVC\n",
        "\n",
        "#Credit to Professor Eric Manley for this function\n",
        "\n",
        "#This code is based on the example here: http://scikit-learn.org/stable/auto_examples/svm/plot_iris.html\n",
        "#Parameters: the data set as a Pandas dataframe, the names of the predictors to put on the x and y axes,\n",
        "#the name of the target column, and the classifier object to use\n",
        "def plot_decision_boundary(data,x_name,y_name,target_name,clf):\n",
        "    \n",
        "    #list of the values appearing in the target column\n",
        "    class_labels = data[target_name].unique()\n",
        "\n",
        "    #converting from categorical target values to numbers so we can plot them with a contour plot\n",
        "    target_col_nums = data[target_name].replace(to_replace=class_labels,value=range(len(data[target_name].unique())))\n",
        "\n",
        "    #create a grid of points representing new cases that we need a prediction for\n",
        "    #these will serve as the basis for drawing the contours\n",
        "    x_points = np.linspace(data[x_name].min(), data[x_name].max(), 300)\n",
        "    y_points = np.linspace(data[y_name].min(), data[y_name].max(), 300)\n",
        "    X, Y = np.meshgrid(x_points,y_points)\n",
        "\n",
        "    #train our classifier\n",
        "    clf.fit(data[[x_name,y_name]],target_col_nums)\n",
        "\n",
        "    #create the dataframe with all the points in our grid\n",
        "    plot_points = pandas.DataFrame(list(product(x_points,y_points)), columns=[x_name,y_name])\n",
        "\n",
        "    #get predictions for each point in our grid\n",
        "    predictions = pandas.Series(clf.predict(plot_points))\n",
        "    \n",
        "    #predictions will be a big 1D array, so reshape them to 2-dimensions, same as the shape of the grid\n",
        "    Z = predictions.values.reshape(X.shape)\n",
        "\n",
        "    #draw the filled-in contours\n",
        "    plt.contourf(X, Y, Z,cmap=plt.cm.coolwarm)\n",
        "\n",
        "    #we will plot the training data using a scatter plot, so\n",
        "    #need to grab the same number of colors used by contourf\n",
        "    point_colors = plt.cm.coolwarm(np.linspace(0,1,len(class_labels)))\n",
        "\n",
        "    #scatter plot each of the classes in our target column\n",
        "    for curr_class in range(len(class_labels)):\n",
        "        curr_subset = data[target_col_nums == curr_class]\n",
        "        plt.scatter(curr_subset[x_name],curr_subset[y_name],color=point_colors[curr_class],edgecolors='k',label=class_labels[curr_class])\n",
        "    \n",
        "    #display the plot and accompanying info\n",
        "    plt.xlabel(x_name)\n",
        "    plt.ylabel(y_name)\n",
        "    plt.title(str(clf)+'\\ntraining set accuracy:'+str(clf.score(data[[x_name,y_name]],target_col_nums)))\n",
        "    legend = plt.legend(loc='lower right')\n",
        "    legend.get_frame().set_facecolor('silver')\n",
        "    plt.show()\n",
        "\n",
        "\n",
        "data = pd.DataFrame(train_transformed, columns =[0,1,2,3,4,5,6,7,8,9],  dtype = float)\n",
        "data.insert(10, 10, train_sln , True)\n",
        "plot_decision_boundary(data, 1 ,2,10,SVC(gamma = 0.01))\n"
      ],
      "metadata": {
        "id": "Y_w-o5sghT8D",
        "outputId": "fb923cb9-6b44-4c1c-c3ee-317f29decf1f",
        "colab": {
          "base_uri": "https://localhost:8080/",
          "height": 310
        }
      },
      "execution_count": null,
      "outputs": [
        {
          "output_type": "display_data",
          "data": {
            "image/png": "[encoded data removed]",
            "text/plain": [
              "<Figure size 432x288 with 1 Axes>"
            ]
          },
          "metadata": {
            "needs_background": "light"
          }
        }
      ]
    },
    {
      "cell_type": "markdown",
      "source": [
        "###Perceptron"
      ],
      "metadata": {
        "id": "BnQ9MY3ARqlR"
      }
    },
    {
      "cell_type": "code",
      "source": [
        "from sklearn.linear_model import Perceptron\n",
        "\n",
        "import itertools\n",
        "#ignore warings -- there are lots of warnings regarding default values of Perceptron; which we accept\n",
        "import warnings\n",
        "warnings.filterwarnings(\"ignore\")\n",
        "\n",
        "#load up scikit-learn Perceptron\n",
        "perc = Perceptron(eta0= 0.05, max_iter= 4)\n",
        "perc.fit(train_transformed,train_sln)\n",
        "predictions = perc.predict(test_transformed)\n",
        "\n",
        "#output accuracy\n",
        "print(\"accuracy:\", metrics.accuracy_score(test_sln, predictions))\n",
        "\n",
        "\n",
        "#confusion Matrix\n",
        "cm=metrics.confusion_matrix(test_sln,predictions)\n",
        "plt.imshow(cm, interpolation='nearest',cmap=plt.cm.Blues)\n",
        "plt.title('Conf Matrix')\n",
        "plt.colorbar()\n",
        "plt.xticks([0,1], clf.classes_,rotation=45)\n",
        "plt.yticks([0,1], clf.classes_)\n",
        "thresh = cm.max() / 2.\n",
        "for i, j in itertools.product(range(cm.shape[0]), range(cm.shape[1])):\n",
        "        plt.text(j, i, format(cm[i, j], '.2f'),\n",
        "                horizontalalignment=\"center\",\n",
        "                color=\"white\" if cm[i, j] > thresh else \"black\")\n",
        "plt.ylabel('True label')\n",
        "plt.xlabel('Predicted label')"
      ],
      "metadata": {
        "colab": {
          "base_uri": "https://localhost:8080/",
          "height": 332
        },
        "id": "R80qjuKFRwGY",
        "outputId": "82b8a0b4-e830-45b2-d49f-7699ee21ca72"
      },
      "execution_count": null,
      "outputs": [
        {
          "output_type": "stream",
          "name": "stdout",
          "text": [
            "accuracy: 0.6771\n"
          ]
        },
        {
          "output_type": "execute_result",
          "data": {
            "text/plain": [
              "Text(0.5, 0, 'Predicted label')"
            ]
          },
          "metadata": {},
          "execution_count": 17
        },
        {
          "output_type": "display_data",
          "data": {
            "image/png": "[encoded data removed]",
            "text/plain": [
              "<Figure size 432x288 with 2 Axes>"
            ]
          },
          "metadata": {
            "needs_background": "light"
          }
        }
      ]
    },
    {
      "cell_type": "markdown",
      "source": [
        "###MLP"
      ],
      "metadata": {
        "id": "Z9ZAdAH5R2Te"
      }
    },
    {
      "cell_type": "code",
      "source": [
        "import warnings\n",
        "warnings.filterwarnings(\"ignore\")\n",
        "import itertools\n",
        "from sklearn.neural_network import MLPClassifier\n",
        "\n",
        "mlp = MLPClassifier(random_state=0,hidden_layer_sizes = (300,), max_iter = 100)\n",
        "mlp.fit(train_transformed,train_sln)\n",
        "predictions = mlp.predict(test_transformed)\n",
        "\n",
        "print(\"Accuracy: \", metrics.accuracy_score(test_sln,predictions))\n",
        "#confusion Matrix\n",
        "cm=metrics.confusion_matrix(test_sln,predictions)\n",
        "plt.imshow(cm, interpolation='nearest',cmap=plt.cm.Blues)\n",
        "plt.title('Conf Matrix')\n",
        "plt.colorbar()\n",
        "plt.xticks([0,1], clf.classes_,rotation=45)\n",
        "plt.yticks([0,1], clf.classes_)\n",
        "thresh = cm.max() / 2.\n",
        "for i, j in itertools.product(range(cm.shape[0]), range(cm.shape[1])):\n",
        "        plt.text(j, i, format(cm[i, j], '.2f'),\n",
        "                horizontalalignment=\"center\",\n",
        "                color=\"white\" if cm[i, j] > thresh else \"black\")\n",
        "plt.ylabel('True label')\n",
        "plt.xlabel('Predicted label')"
      ],
      "metadata": {
        "colab": {
          "base_uri": "https://localhost:8080/",
          "height": 332
        },
        "id": "j32gV568R4wr",
        "outputId": "c2151fe1-1976-4623-bf66-0f225b4be834"
      },
      "execution_count": null,
      "outputs": [
        {
          "output_type": "stream",
          "name": "stdout",
          "text": [
            "Accuracy:  0.7286\n"
          ]
        },
        {
          "output_type": "execute_result",
          "data": {
            "text/plain": [
              "Text(0.5, 0, 'Predicted label')"
            ]
          },
          "metadata": {},
          "execution_count": 16
        },
        {
          "output_type": "display_data",
          "data": {
            "image/png": "[encoded data removed]",
            "text/plain": [
              "<Figure size 432x288 with 2 Axes>"
            ]
          },
          "metadata": {
            "needs_background": "light"
          }
        }
      ]
    },
    {
      "cell_type": "markdown",
      "source": [
        ""
      ],
      "metadata": {
        "id": "_SFHX49pebTi"
      }
    },
    {
      "cell_type": "markdown",
      "metadata": {
        "id": "wmGXouTFS9gU"
      },
      "source": [
        "\n",
        "The Final Results of the tuned modles are desplayed below. \n",
        "\n",
        "Model | Accuracy of final model | false Positive | false Negative\n",
        "-------------------|------------------|------------------|------------------\n",
        "SVC        |  0.7337  |1116|1574\n",
        "Perceptron |  0.6771  |1840|1389\n",
        "MLP        |  0.7286  |1279|1435\n",
        "\n",
        "\n"
      ]
    },
    {
      "cell_type": "markdown",
      "source": [
        "##Conclusion/ Discussion\n",
        "\n",
        "As can be seen in the modle table above all of the final modles performed with an accuracy of around 0.7 but the SVC was the highest with an accuracy of 0.7337. Runner up was the MLP with an accuracy of 0.7286. Finnaly in last we had the perceptron with an accuracy of 0.6771\n",
        "\n",
        "This largly makes sence as the single perceptron did not have the complexity to draw from with that the MLP had both the SVC and MLP did well but probibly could have done better with higher dimentionality. The dicision boundy data I beleve shows how difficult this data is to seperate in lower dimentions.\n",
        "\n",
        "In terms of false positives and false negatives MLP was the most balanced but leand slightly more twards making false negative predicitons. The Perceptron made significantly more false positive predicitons than it made false negative leading me to beleve it had some sort of biasing issue. Finaly the SVC had tendancy to make false negative predicitons.\n",
        "\n",
        "If any of these modles where to be used in acuality I would reccomend the SVC because it had the highest accuracy but give it a slight positive bias to counteract all of the false negative predicitons. \n",
        "\n",
        "Finally if I where to redue this project I would definietly find a way to make it work with increased dimentionality possibly by using something other than collab which wont end the session or by implementing a way that the tuneing methods could output data to a file so that if collab did restart the session it would not have to start from scratch. "
      ],
      "metadata": {
        "id": "vVFhIuf-dUCj"
      }
    },
    {
      "cell_type": "markdown",
      "metadata": {
        "id": "ymuMVjanEgM_"
      },
      "source": [
        "## Resourses\n",
        "Credit to Professor Eric Manley for the decision boundary function\n",
        "\n",
        "For this project I used the following posted code as reference:\n",
        "\n",
        "Day 10 Code https://github.com/merriekay/CS167Code/blob/main/Day10_Notes_sklearn_f21_solutions.ipynb\n",
        "\n",
        "Day 14 Code SVC https://github.com/merriekay/CS167Code/blob/main/Day_14_Notes_SVM.ipynb\n",
        "\n",
        "Day 14 Code pt2 PCA https://github.com/merriekay/CS167Code/blob/main/Day14Notes_PCA.ipynb\n",
        "\n",
        "\n",
        "Day 17 Code Peceptron https://github.com/merriekay/CS167Code/blob/main/Day17_Notes_perceptron_f21.ipynb\n",
        "\n",
        "Day 19 Code Multilayer Perceptron https://github.com/merriekay/CS167Code/blob/main/Day19_Notes_ANNs_f21.ipynb\n",
        "\n",
        "Day 23 code NLP https://github.com/merriekay/CS167Code/blob/main/Day23Notes_RNNs4NLP.ipynb\n",
        "\n",
        "\n",
        "\n",
        "\n",
        "\n",
        "For this project I used the following Websights for help:\n",
        "\n",
        "https://pandas.pydata.org/docs/reference/api/pandas.Series.unique.html\n",
        "\n",
        "https://www.w3schools.com/python/ref_string_split.asp\n",
        "\n",
        "https://www.guru99.com/find-average-list-python.html\n",
        "\n",
        "\n",
        "https://pandas.pydata.org/docs/reference/api/pandas.Series.str.split.html\n",
        "\n",
        "https://jonathansoma.com/lede/foundations/classes/pandas%20columns%20and%20functions/apply-a-function-to-every-row-in-a-pandas-dataframe/\n",
        "\n",
        "https://matplotlib.org/stable/api/_as_gen/matplotlib.pyplot.hist.html\n",
        "\n",
        "https://stackoverflow.com/questions/35277075/python-pandas-counting-the-occurrences-of-a-specific-value\n",
        "\n",
        "\n",
        "https://scikit-learn.org/stable/modules/generated/sklearn.svm.SVC.html\n",
        "\n",
        "https://scikit-learn.org/stable/modules/generated/sklearn.linear_model.Perceptron.html\n",
        "\n",
        "\n",
        "https://scikit-learn.org/stable/modules/generated/sklearn.linear_model.Perceptron.html\n",
        "\n",
        "https://www.geeksforgeeks.org/make-a-pandas-dataframe-with-two-dimensional-list-python/\n",
        "\n",
        "https://www.geeksforgeeks.org/adding-new-column-to-existing-dataframe-in-pandas/\n",
        "\n",
        "\n"
      ]
    }
  ]
}