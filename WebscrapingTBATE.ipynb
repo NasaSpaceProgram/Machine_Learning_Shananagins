{
  "nbformat": 4,
  "nbformat_minor": 0,
  "metadata": {
    "colab": {
      "provenance": [],
      "authorship_tag": "ABX9TyO9fSZ6gSevBEKiJa9FxRvS",
      "include_colab_link": true
    },
    "kernelspec": {
      "name": "python3",
      "display_name": "Python 3"
    },
    "language_info": {
      "name": "python"
    }
  },
  "cells": [
    {
      "cell_type": "markdown",
      "metadata": {
        "id": "view-in-github",
        "colab_type": "text"
      },
      "source": [
        "<a href=\"https://colab.research.google.com/github/NasaSpaceProgram/Machine_Learning_Shananagins/blob/main/WebscrapingTBATE.ipynb\" target=\"_parent\"><img src=\"https://colab.research.google.com/assets/colab-badge.svg\" alt=\"Open In Colab\"/></a>"
      ]
    },
    {
      "cell_type": "code",
      "execution_count": 37,
      "metadata": {
        "colab": {
          "base_uri": "https://localhost:8080/"
        },
        "id": "N5RqFqU4z0RC",
        "outputId": "cff66e59-a73e-41c5-ae63-ed37cc6b63e9"
      },
      "outputs": [
        {
          "output_type": "stream",
          "name": "stdout",
          "text": [
            "1426898\n"
          ]
        }
      ],
      "source": [
        "from bs4 import BeautifulSoup\n",
        "import requests\n",
        "import csv\n",
        "import string\n",
        "\n",
        "def getChapter(n):\n",
        "  source = requests.get('https://readlightnovel.app/the-beginning-after-the-end-535558/chapter-'+str(n)).text\n",
        "  soup = BeautifulSoup(source, 'html.parser')\n",
        "  ch = \"\"\n",
        "  for li in soup.find_all(\"p\"):\n",
        "    ch = ch + \" \" + li.text\n",
        "  #ch.replace(\"\\n\",\"\")\n",
        "  #ch.replace(\"Sponsored Content\",\"\")\n",
        "  return(ch)\n",
        "\n",
        "def getChapterEarly(n):\n",
        "  source = requests.get('https://readlightnovel.app/the-beginning-after-the-end-535558/chapter-'+str(n)).text\n",
        "  soup = BeautifulSoup(source, 'html.parser')\n",
        "  ch = \"\"\n",
        "  s = soup.prettify()\n",
        "  #print(s.split('\\n'))\n",
        "  lines = s.split('\\n')\n",
        "  for line in range(len(lines)):\n",
        "    if lines[line] == \"         <br/>\" and not \"<\" in lines[line+1]:\n",
        "      ch = ch + \" \" +  lines[line+1]\n",
        "  return(ch)\n",
        "\n",
        "\n",
        "#print(getChapterEarly(1))\n",
        "#print(getChapter(78))\n",
        "\n",
        "\n",
        "\n",
        "\n",
        "def GetWordCount():\n",
        "  L = 0\n",
        "  for i in range(443):\n",
        "    i += 1\n",
        "    if i<78:\n",
        "      ch = getChapterEarly(i)\n",
        "    else:\n",
        "      ch = getChapter(i)\n",
        "    ch = ch.split()\n",
        "    L += len(ch)\n",
        "  return(L)\n",
        "print(GetWordCount())\n",
        "\n"
      ]
    }
  ]
}